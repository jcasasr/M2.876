{
 "cells": [
  {
   "cell_type": "markdown",
   "metadata": {},
   "source": [
    "<div style=\"width: 100%; clear: both;\">\n",
    "<div style=\"float: left; width: 50%;\">\n",
    "<img src=\"http://www.uoc.edu/portal/_resources/common/imatges/marca_UOC/UOC_Masterbrand.jpg\" align=\"left\"/>\n",
    "</div>\n",
    "</div>\n",
    "<div style=\"float: right; width: 50%;\">\n",
    "<p style=\"margin: 0; padding-top: 22px; text-align:right;\">M2.856 · Análisis de sentimientos y redes sociales</p>\n",
    "<p style=\"margin: 0; text-align:right;\">Máster universitario de Ciencia de datos (<i>Data Science</i>)</p>\n",
    "<p style=\"margin: 0; text-align:right; padding-button: 100px;\">Estudios de Informática, Multimedia y Telecomunicación</p>\n",
    "</div>\n",
    "</div>\n",
    "<div style=\"width: 100%; clear: both;\">\n",
    "<div style=\"width:100%;\">&nbsp;</div>\n",
    "    \n",
    "# Análisis de sentimientos y redes sociales\n",
    "## PLA4: Representación de redes sociales como grafos"
   ]
  },
  {
   "cell_type": "code",
   "execution_count": 2,
   "metadata": {},
   "outputs": [
    {
     "data": {
      "image/png": "[encoded data removed]",
      "text/plain": [
       "<Figure size 432x288 with 1 Axes>"
      ]
     },
     "metadata": {},
     "output_type": "display_data"
    }
   ],
   "source": [
    "#    Copyright (C) 2004-2018 by\n",
    "#    Aric Hagberg <hagberg@lanl.gov>\n",
    "#    Dan Schult <dschult@colgate.edu>\n",
    "#    Pieter Swart <swart@lanl.gov>\n",
    "#    All rights reserved.\n",
    "#    BSD license.\n",
    "\n",
    "import matplotlib.pyplot as plt\n",
    "from networkx import nx\n",
    "\n",
    "G = nx.lollipop_graph(6, 4)\n",
    "\n",
    "nx.draw(G, with_labels=True)\n",
    "plt.show()"
   ]
  },
  {
   "cell_type": "markdown",
   "metadata": {},
   "source": [
    "# Caminos"
   ]
  },
  {
   "cell_type": "code",
   "execution_count": 3,
   "metadata": {},
   "outputs": [
    {
     "name": "stdout",
     "output_type": "stream",
     "text": [
      "[[3, 0, 1, 2, 4, 5, 6, 7, 8, 9], [3, 0, 1, 2, 5, 6, 7, 8, 9], [3, 0, 1, 4, 2, 5, 6, 7, 8, 9], [3, 0, 1, 4, 5, 6, 7, 8, 9], [3, 0, 1, 5, 6, 7, 8, 9], [3, 0, 2, 1, 4, 5, 6, 7, 8, 9], [3, 0, 2, 1, 5, 6, 7, 8, 9], [3, 0, 2, 4, 1, 5, 6, 7, 8, 9], [3, 0, 2, 4, 5, 6, 7, 8, 9], [3, 0, 2, 5, 6, 7, 8, 9], [3, 0, 4, 1, 2, 5, 6, 7, 8, 9], [3, 0, 4, 1, 5, 6, 7, 8, 9], [3, 0, 4, 2, 1, 5, 6, 7, 8, 9], [3, 0, 4, 2, 5, 6, 7, 8, 9], [3, 0, 4, 5, 6, 7, 8, 9], [3, 0, 5, 6, 7, 8, 9], [3, 1, 0, 2, 4, 5, 6, 7, 8, 9], [3, 1, 0, 2, 5, 6, 7, 8, 9], [3, 1, 0, 4, 2, 5, 6, 7, 8, 9], [3, 1, 0, 4, 5, 6, 7, 8, 9], [3, 1, 0, 5, 6, 7, 8, 9], [3, 1, 2, 0, 4, 5, 6, 7, 8, 9], [3, 1, 2, 0, 5, 6, 7, 8, 9], [3, 1, 2, 4, 0, 5, 6, 7, 8, 9], [3, 1, 2, 4, 5, 6, 7, 8, 9], [3, 1, 2, 5, 6, 7, 8, 9], [3, 1, 4, 0, 2, 5, 6, 7, 8, 9], [3, 1, 4, 0, 5, 6, 7, 8, 9], [3, 1, 4, 2, 0, 5, 6, 7, 8, 9], [3, 1, 4, 2, 5, 6, 7, 8, 9], [3, 1, 4, 5, 6, 7, 8, 9], [3, 1, 5, 6, 7, 8, 9], [3, 2, 0, 1, 4, 5, 6, 7, 8, 9], [3, 2, 0, 1, 5, 6, 7, 8, 9], [3, 2, 0, 4, 1, 5, 6, 7, 8, 9], [3, 2, 0, 4, 5, 6, 7, 8, 9], [3, 2, 0, 5, 6, 7, 8, 9], [3, 2, 1, 0, 4, 5, 6, 7, 8, 9], [3, 2, 1, 0, 5, 6, 7, 8, 9], [3, 2, 1, 4, 0, 5, 6, 7, 8, 9], [3, 2, 1, 4, 5, 6, 7, 8, 9], [3, 2, 1, 5, 6, 7, 8, 9], [3, 2, 4, 0, 1, 5, 6, 7, 8, 9], [3, 2, 4, 0, 5, 6, 7, 8, 9], [3, 2, 4, 1, 0, 5, 6, 7, 8, 9], [3, 2, 4, 1, 5, 6, 7, 8, 9], [3, 2, 4, 5, 6, 7, 8, 9], [3, 2, 5, 6, 7, 8, 9], [3, 4, 0, 1, 2, 5, 6, 7, 8, 9], [3, 4, 0, 1, 5, 6, 7, 8, 9], [3, 4, 0, 2, 1, 5, 6, 7, 8, 9], [3, 4, 0, 2, 5, 6, 7, 8, 9], [3, 4, 0, 5, 6, 7, 8, 9], [3, 4, 1, 0, 2, 5, 6, 7, 8, 9], [3, 4, 1, 0, 5, 6, 7, 8, 9], [3, 4, 1, 2, 0, 5, 6, 7, 8, 9], [3, 4, 1, 2, 5, 6, 7, 8, 9], [3, 4, 1, 5, 6, 7, 8, 9], [3, 4, 2, 0, 1, 5, 6, 7, 8, 9], [3, 4, 2, 0, 5, 6, 7, 8, 9], [3, 4, 2, 1, 0, 5, 6, 7, 8, 9], [3, 4, 2, 1, 5, 6, 7, 8, 9], [3, 4, 2, 5, 6, 7, 8, 9], [3, 4, 5, 6, 7, 8, 9], [3, 5, 6, 7, 8, 9]]\n"
     ]
    }
   ],
   "source": [
    "# Todos los caminos existentes entre 3 y 9\n",
    "\n",
    "print(list(nx.all_simple_paths(G, 3, 9)))"
   ]
  },
  {
   "cell_type": "code",
   "execution_count": 4,
   "metadata": {},
   "outputs": [
    {
     "name": "stdout",
     "output_type": "stream",
     "text": [
      "[[5, 6, 7, 8, 9]]\n"
     ]
    }
   ],
   "source": [
    "# Todos los caminos existentes entre 5 y 9\n",
    "\n",
    "print(list(nx.all_simple_paths(G, 5, 9)))"
   ]
  },
  {
   "cell_type": "code",
   "execution_count": 5,
   "metadata": {},
   "outputs": [
    {
     "name": "stdout",
     "output_type": "stream",
     "text": [
      "[3, 5, 6, 7, 8, 9]\n"
     ]
    }
   ],
   "source": [
    "# ¿Y el camino más corto (geodésico) entre 3 y 9?\n",
    "\n",
    "print(nx.shortest_path(G, 3, 9))"
   ]
  },
  {
   "cell_type": "code",
   "execution_count": 6,
   "metadata": {},
   "outputs": [
    {
     "name": "stdout",
     "output_type": "stream",
     "text": [
      "source vertex {target:length, }\n",
      "0 {0: 0, 1: 1, 2: 1, 3: 1, 4: 1, 5: 1, 6: 2, 7: 3, 8: 4, 9: 5} \n",
      "1 {1: 0, 0: 1, 2: 1, 3: 1, 4: 1, 5: 1, 6: 2, 7: 3, 8: 4, 9: 5} \n",
      "2 {2: 0, 0: 1, 1: 1, 3: 1, 4: 1, 5: 1, 6: 2, 7: 3, 8: 4, 9: 5} \n",
      "3 {3: 0, 0: 1, 1: 1, 2: 1, 4: 1, 5: 1, 6: 2, 7: 3, 8: 4, 9: 5} \n",
      "4 {4: 0, 0: 1, 1: 1, 2: 1, 3: 1, 5: 1, 6: 2, 7: 3, 8: 4, 9: 5} \n",
      "5 {5: 0, 0: 1, 1: 1, 2: 1, 3: 1, 4: 1, 6: 1, 7: 2, 8: 3, 9: 4} \n",
      "6 {6: 0, 7: 1, 5: 1, 8: 2, 0: 2, 1: 2, 2: 2, 3: 2, 4: 2, 9: 3} \n",
      "7 {7: 0, 6: 1, 8: 1, 5: 2, 9: 2, 0: 3, 1: 3, 2: 3, 3: 3, 4: 3} \n",
      "8 {8: 0, 7: 1, 9: 1, 6: 2, 5: 3, 0: 4, 1: 4, 2: 4, 3: 4, 4: 4} \n",
      "9 {9: 0, 8: 1, 7: 2, 6: 3, 5: 4, 0: 5, 1: 5, 2: 5, 3: 5, 4: 5} \n",
      "\n",
      "diámetro medio 2.1\n"
     ]
    }
   ],
   "source": [
    "# Ejemplo de cálculo de la distancia (o geodésico) entre todos los vértices o nodos del grafo.\n",
    "\n",
    "pathlengths = []\n",
    "\n",
    "print(\"source vertex {target:length, }\")\n",
    "\n",
    "for v in G.nodes():\n",
    "    spl = dict(nx.single_source_shortest_path_length(G, v))\n",
    "    print('{} {} '.format(v, spl))\n",
    "    for p in spl:\n",
    "        pathlengths.append(spl[p])\n",
    "\n",
    "print('')\n",
    "print(\"diámetro medio %s\" % (sum(pathlengths) / len(pathlengths)))"
   ]
  },
  {
   "cell_type": "code",
   "execution_count": 7,
   "metadata": {},
   "outputs": [
    {
     "name": "stdout",
     "output_type": "stream",
     "text": [
      "\n",
      "length #paths\n",
      "0 10\n",
      "1 38\n",
      "2 16\n",
      "3 14\n",
      "4 12\n",
      "5 10\n"
     ]
    }
   ],
   "source": [
    "# Histograma de la longitud de caminos geodésicos. \n",
    "# Observad que hay 10 de distancia 0 que son los propios nodos y que los demás los contamos dos veces.\n",
    "dist = {}\n",
    "for p in pathlengths:\n",
    "    if p in dist:\n",
    "        dist[p] += 1\n",
    "    else:\n",
    "        dist[p] = 1\n",
    "\n",
    "print('')\n",
    "print(\"length #paths\")\n",
    "verts = dist.keys()\n",
    "for d in sorted(verts):\n",
    "    print('%s %d' % (d, dist[d]))"
   ]
  },
  {
   "cell_type": "markdown",
   "metadata": {},
   "source": [
    "# Más medidas"
   ]
  },
  {
   "cell_type": "code",
   "execution_count": 8,
   "metadata": {},
   "outputs": [
    {
     "name": "stdout",
     "output_type": "stream",
     "text": [
      "radio: 3\n",
      "diámetro: 5\n",
      "excentricidad: {0: 5, 1: 5, 2: 5, 3: 5, 4: 5, 5: 4, 6: 3, 7: 3, 8: 4, 9: 5}\n",
      "centro: [6, 7]\n",
      "periferia: [0, 1, 2, 3, 4, 9]\n",
      "densidad: 0.4222222222222222\n"
     ]
    }
   ],
   "source": [
    "print(\"radio: %d\" % nx.radius(G))\n",
    "print(\"diámetro: %d\" % nx.diameter(G))\n",
    "print(\"excentricidad: %s\" % nx.eccentricity(G))\n",
    "print(\"centro: %s\" % nx.center(G))\n",
    "print(\"periferia: %s\" % nx.periphery(G))\n",
    "print(\"densidad: %s\" % nx.density(G))"
   ]
  },
  {
   "cell_type": "code",
   "execution_count": 10,
   "metadata": {},
   "outputs": [
    {
     "name": "stdout",
     "output_type": "stream",
     "text": [
      "True\n",
      "1\n"
     ]
    }
   ],
   "source": [
    "# ¿Es conexo el grafo?\n",
    "print(nx.is_connected(G))\n",
    "\n",
    "# Entonces debe tener solo un componente, que es a su vez el componente principal o \"gigante\"\n",
    "print(nx.number_connected_components(G))"
   ]
  },
  {
   "cell_type": "code",
   "execution_count": 11,
   "metadata": {},
   "outputs": [
    {
     "data": {
      "text/plain": [
       "[[0, 1],\n",
       " [0, 2],\n",
       " [0, 3],\n",
       " [0, 4],\n",
       " [0, 5],\n",
       " [1, 2],\n",
       " [1, 3],\n",
       " [1, 4],\n",
       " [1, 5],\n",
       " [2, 3],\n",
       " [2, 4],\n",
       " [2, 5],\n",
       " [3, 4],\n",
       " [3, 5],\n",
       " [4, 5],\n",
       " [5, 6],\n",
       " [6, 7],\n",
       " [7, 8],\n",
       " [8, 9],\n",
       " [0, 1, 2],\n",
       " [0, 1, 3],\n",
       " [0, 1, 4],\n",
       " [0, 1, 5],\n",
       " [0, 2, 3],\n",
       " [0, 2, 4],\n",
       " [0, 2, 5],\n",
       " [0, 3, 4],\n",
       " [0, 3, 5],\n",
       " [0, 4, 5],\n",
       " [1, 2, 3],\n",
       " [1, 2, 4],\n",
       " [1, 2, 5],\n",
       " [1, 3, 4],\n",
       " [1, 3, 5],\n",
       " [1, 4, 5],\n",
       " [2, 3, 4],\n",
       " [2, 3, 5],\n",
       " [2, 4, 5],\n",
       " [3, 4, 5],\n",
       " [0, 1, 2, 3],\n",
       " [0, 1, 2, 4],\n",
       " [0, 1, 2, 5],\n",
       " [0, 1, 3, 4],\n",
       " [0, 1, 3, 5],\n",
       " [0, 1, 4, 5],\n",
       " [0, 2, 3, 4],\n",
       " [0, 2, 3, 5],\n",
       " [0, 2, 4, 5],\n",
       " [0, 3, 4, 5],\n",
       " [1, 2, 3, 4],\n",
       " [1, 2, 3, 5],\n",
       " [1, 2, 4, 5],\n",
       " [1, 3, 4, 5],\n",
       " [2, 3, 4, 5],\n",
       " [0, 1, 2, 3, 4],\n",
       " [0, 1, 2, 3, 5],\n",
       " [0, 1, 2, 4, 5],\n",
       " [0, 1, 3, 4, 5],\n",
       " [0, 2, 3, 4, 5],\n",
       " [1, 2, 3, 4, 5],\n",
       " [0, 1, 2, 3, 4, 5]]"
      ]
     },
     "execution_count": 11,
     "metadata": {},
     "output_type": "execute_result"
    }
   ],
   "source": [
    "# Subgrafos completos de G. \n",
    "# Hacemos este array condicional para evitar que nos muestre los de un nodo, que no nos interesan.\n",
    "[s for s in nx.enumerate_all_cliques(G) if len(s) > 1]"
   ]
  },
  {
   "cell_type": "code",
   "execution_count": 12,
   "metadata": {},
   "outputs": [
    {
     "data": {
      "text/plain": [
       "[[8, 9], [8, 7], [5, 0, 1, 2, 3, 4], [5, 6], [7, 6]]"
      ]
     },
     "execution_count": 12,
     "metadata": {},
     "output_type": "execute_result"
    }
   ],
   "source": [
    "# Podemos buscar también los subgrafos completos máximos, lo que es más simple de interpretar:\n",
    "list(nx.find_cliques(G))"
   ]
  },
  {
   "cell_type": "markdown",
   "metadata": {},
   "source": [
    "# Puntos de corte"
   ]
  },
  {
   "cell_type": "code",
   "execution_count": 13,
   "metadata": {},
   "outputs": [
    {
     "data": {
      "text/plain": [
       "1"
      ]
     },
     "execution_count": 13,
     "metadata": {},
     "output_type": "execute_result"
    }
   ],
   "source": [
    "nx.node_connectivity(G)"
   ]
  },
  {
   "cell_type": "code",
   "execution_count": 14,
   "metadata": {},
   "outputs": [
    {
     "data": {
      "text/plain": [
       "[{5}, {6}, {7}, {8}]"
      ]
     },
     "execution_count": 14,
     "metadata": {},
     "output_type": "execute_result"
    }
   ],
   "source": [
    "# Fijaos que no computa correctamente TODOS los cuts\n",
    "list(nx.all_node_cuts(G))"
   ]
  },
  {
   "cell_type": "code",
   "execution_count": 15,
   "metadata": {},
   "outputs": [
    {
     "data": {
      "text/plain": [
       "[{6}, {7}, {8}]"
      ]
     },
     "execution_count": 15,
     "metadata": {},
     "output_type": "execute_result"
    }
   ],
   "source": [
    "list(nx.all_node_cuts(nx.subgraph(G, [5,6,7,8,9])))"
   ]
  },
  {
   "cell_type": "code",
   "execution_count": 16,
   "metadata": {},
   "outputs": [
    {
     "data": {
      "text/plain": [
       "[7]"
      ]
     },
     "execution_count": 16,
     "metadata": {},
     "output_type": "execute_result"
    }
   ],
   "source": [
    "from networkx.algorithms.connectivity import *\n",
    "list(minimum_st_node_cut(G,6,8))"
   ]
  },
  {
   "cell_type": "code",
   "execution_count": 17,
   "metadata": {},
   "outputs": [
    {
     "data": {
      "text/plain": [
       "1"
      ]
     },
     "execution_count": 17,
     "metadata": {},
     "output_type": "execute_result"
    }
   ],
   "source": [
    "nx.edge_connectivity(G)"
   ]
  },
  {
   "cell_type": "code",
   "execution_count": 18,
   "metadata": {},
   "outputs": [
    {
     "data": {
      "text/plain": [
       "[{0, 1, 2, 3, 4, 5}, {6}, {7}, {8}, {9}]"
      ]
     },
     "execution_count": 18,
     "metadata": {},
     "output_type": "execute_result"
    }
   ],
   "source": [
    "# Componentes conectados por puentes\n",
    "\n",
    "from networkx.algorithms.connectivity.edge_kcomponents import bridge_components\n",
    "list(bridge_components(G))"
   ]
  },
  {
   "cell_type": "code",
   "execution_count": null,
   "metadata": {},
   "outputs": [],
   "source": []
  }
 ],
 "metadata": {
  "kernelspec": {
   "display_name": "Python 3",
   "language": "python",
   "name": "python3"
  },
  "language_info": {
   "codemirror_mode": {
    "name": "ipython",
    "version": 3
   },
   "file_extension": ".py",
   "mimetype": "text/x-python",
   "name": "python",
   "nbconvert_exporter": "python",
   "pygments_lexer": "ipython3",
   "version": "3.6.7"
  },
  "varInspector": {
   "cols": {
    "lenName": 16,
    "lenType": 16,
    "lenVar": 40
   },
   "kernels_config": {
    "python": {
     "delete_cmd_postfix": "",
     "delete_cmd_prefix": "del ",
     "library": "var_list.py",
     "varRefreshCmd": "print(var_dic_list())"
    },
    "r": {
     "delete_cmd_postfix": ") ",
     "delete_cmd_prefix": "rm(",
     "library": "var_list.r",
     "varRefreshCmd": "cat(var_dic_list()) "
    }
   },
   "types_to_exclude": [
    "module",
    "function",
    "builtin_function_or_method",
    "instance",
    "_Feature"
   ],
   "window_display": false
  }
 },
 "nbformat": 4,
 "nbformat_minor": 2
}
