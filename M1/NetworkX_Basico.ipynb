{
 "cells": [
  {
   "cell_type": "markdown",
   "metadata": {},
   "source": [
    "<div style=\"width: 100%; clear: both;\">\n",
    "<div style=\"float: left; width: 50%;\">\n",
    "<img src=\"http://www.uoc.edu/portal/_resources/common/imatges/marca_UOC/UOC_Masterbrand.jpg\" align=\"left\"/>\n",
    "</div>\n",
    "</div>\n",
    "<div style=\"float: right; width: 50%;\">\n",
    "<p style=\"margin: 0; padding-top: 22px; text-align:right;\">M2.876 · Análisis de grafos y redes sociales</p>\n",
    "<p style=\"margin: 0; text-align:right;\">Máster universitario de Ciencia de datos (<i>Data Science</i>)</p>\n",
    "<p style=\"margin: 0; text-align:right; padding-button: 100px;\">Estudios de Informática, Multimedia y Telecomunicación</p>\n",
    "</div>\n",
    "</div>\n",
    "<div style=\"width: 100%; clear: both;\">\n",
    "<div style=\"width:100%;\">&nbsp;</div>"
   ]
  },
  {
   "cell_type": "markdown",
   "metadata": {},
   "source": [
    "# Introducción a NetworkX\n",
    "\n",
    "[NetworkX](https://networkx.org/) es uno de los paquetes de Python más populares para la creación, manipulación y estudio de la estructura de las redes complejas en general (y las redes sociales en particular).\n",
    "\n",
    "Al nivel más básico, una red se compone de dos elementos:\n",
    "\n",
    "* Los sujetos representados, llamados *nodos* (**_nodes_**).\n",
    "* Las relaciones entre ellos, llamadas *aristas* (**_edges_**).\n",
    "\n",
    "## Primeros pasos\n",
    "\n",
    "Importar **networkx** y crear de un grafo **vacío**."
   ]
  },
  {
   "cell_type": "code",
   "execution_count": 2,
   "metadata": {},
   "outputs": [],
   "source": [
    "import networkx as nx\n",
    "G = nx.Graph()"
   ]
  },
  {
   "cell_type": "markdown",
   "metadata": {},
   "source": [
    "Un **_graph_** o **grafo** es un conjunto de nodos relacionados por pares (mediante sus aristas, enlaces o relaciones). En NetworkX, los nodos pueden formarse a partir de casi cualquier objeto:\n",
    "- Cadenas de texto (*strings*).\n",
    "- Imágenes.\n",
    "- Objetos XML.\n",
    "- Otros grafos.\n",
    "- Etc..\n",
    "\n",
    "Los grafos pueden construirse de varias formas. \n",
    "\n",
    "## NODOS (NODES)\n",
    "\n",
    "Empezaremos viendo cómo se incorporan nodos de forma simple."
   ]
  },
  {
   "cell_type": "code",
   "execution_count": 4,
   "metadata": {},
   "outputs": [
    {
     "name": "stdout",
     "output_type": "stream",
     "text": [
      "1. El grafo G tiene los nodos: [1]\n",
      "2. El grafo G tiene los nodos: [1, 2, 3, 4, 5]\n"
     ]
    }
   ],
   "source": [
    "G.clear() #Reiniciamos G.\n",
    "\n",
    "# Por ejemplo, de uno en uno.\n",
    "\n",
    "G.add_node(1)\n",
    "print(\"1. El grafo G tiene los nodos: \" + str(list(G.nodes())))\n",
    "\n",
    "# O con una lista.\n",
    "\n",
    "G.add_nodes_from([1,2,3,4,5])\n",
    "# Observad que se ha intentado volver a insertar el nodo 1 pero ni se ha duplicado ni ha devuelto error, \n",
    "# simplemente se ha ignorado.\n",
    "print(\"2. El grafo G tiene los nodos: \" + str(list(G.nodes())))\n"
   ]
  },
  {
   "cell_type": "markdown",
   "metadata": {},
   "source": [
    "## ARISTAS (EDGES)\n",
    "\n",
    "Las aristas funcionan de forma muy parecida."
   ]
  },
  {
   "cell_type": "code",
   "execution_count": 5,
   "metadata": {},
   "outputs": [
    {
     "name": "stdout",
     "output_type": "stream",
     "text": [
      "1. El grafo G tiene las aristas: [(1, 2)]\n",
      "2. El grafo G tiene las aristas: [(1, 2), (1, 3)]\n"
     ]
    }
   ],
   "source": [
    "# Añadimos una arista sin atributos. Por ahora, es un Graph() y, por lo tanto, NO es direccional.\n",
    "\n",
    "G.add_edge(1, 2) # Crea un enlace entre 1 y 2.\n",
    "print(\"1. El grafo G tiene las aristas: \" + str(list(G.edges())))\n",
    "\n",
    "# También podemos añadir una lista de aristas.\n",
    "\n",
    "G.add_edges_from([(1, 2), (1, 3)])\n",
    "print(\"2. El grafo G tiene las aristas: \" + str(list(G.edges())))\n",
    "\n",
    "# De nuevo, las aristas ya existentes no se duplican ni dan error; se ignoran. "
   ]
  },
  {
   "cell_type": "markdown",
   "metadata": {},
   "source": [
    "Pero, ¿qué pasa si añadimos una arista entre nodos que no existen en el grafo? Vamos a comprobarlo."
   ]
  },
  {
   "cell_type": "code",
   "execution_count": 6,
   "metadata": {},
   "outputs": [
    {
     "name": "stdout",
     "output_type": "stream",
     "text": [
      "Nodos iniciales: [1, 2, 3, 4, 5]\n",
      "Aristas iniciales: [(1, 2), (1, 3)]\n",
      "Nodos finales: [1, 2, 3, 4, 5, 6, 7, 8]\n",
      "Aristas finales: [(1, 2), (1, 3), (1, 6), (7, 8)]\n"
     ]
    }
   ],
   "source": [
    "print(\"Nodos iniciales: \" + str(list(G.nodes())))\n",
    "print(\"Aristas iniciales: \" + str(list(G.edges())))\n",
    "\n",
    "#Añadimos una arista entre 1 (que sí está) y 6 (que no) y una entre 7 y 8 (ninguna está entre los nodos iniciales).\n",
    "\n",
    "G.add_edges_from([(1, 6), (7, 8)])\n",
    "\n",
    "print(\"Nodos finales: \" + str(list(G.nodes())))\n",
    "print(\"Aristas finales: \" + str(list(G.edges())))"
   ]
  },
  {
   "cell_type": "markdown",
   "metadata": {},
   "source": [
    "Así, comprobamos que añadir aristas también crea los nodos necesarios. Hay que ser cauteloso con la creación, puesto que pueden darse generaciones no deseadas al intentar establecer un vínculo entre dos nodos referenciados de forma incorrecta sin darnos cuenta de ello.\n",
    "\n",
    "### Eliminar nodos o aristas\n",
    "\n",
    "Para eliminar nodos o aristas existen las funciones inversas a las de añadir. Sustituyen el *add* por el *remove*. "
   ]
  },
  {
   "cell_type": "code",
   "execution_count": 8,
   "metadata": {},
   "outputs": [
    {
     "name": "stdout",
     "output_type": "stream",
     "text": [
      "Nodos: [1, 2, 3, 4, 5, 6, 7, 8]\n",
      "Aristas: [(1, 2), (1, 3), (1, 6), (7, 8)]\n",
      "\n",
      "Añadimos nodo 9 y dos aristas entre 10 y 11 (que se crean) y 8 y 9 (que existen)\n",
      "Nodos: [1, 2, 3, 4, 5, 6, 7, 8, 9, 10, 11]\n",
      "Aristas: [(1, 2), (1, 3), (1, 6), (7, 8), (8, 9), (10, 11)]\n",
      "\n",
      "Eliminamos nodo 10 y arista (8,9)\n",
      "Nodos: [1, 2, 3, 4, 5, 6, 7, 8, 9, 11]\n",
      "Aristas: [(1, 2), (1, 3), (1, 6), (7, 8)]\n",
      "\n",
      "Al eliminar el nodo 10, ha eliminado automáticamente la arista 10,11, pero el nodo 11 sigue ahí.\n",
      "Eliminar la arista 8, 9 no afecta a los nodos, solo a su enlace.\n",
      "\n",
      "Vuelta al estado inicial\n",
      "Nodos: [1, 2, 3, 4, 5, 6, 7, 8]\n",
      "Aristas: [(1, 2), (1, 3), (1, 6), (7, 8)]\n"
     ]
    }
   ],
   "source": [
    "print(\"Nodos: \" + str(list(G.nodes())))\n",
    "print(\"Aristas: \" + str(list(G.edges())))\n",
    "\n",
    "# Añadimos nodo 9 y aristas (10,11) y (8,9)\n",
    "G.add_node(9)\n",
    "G.add_edges_from([(10, 11), (8, 9)])\n",
    "\n",
    "print(\"\\nAñadimos nodo 9 y dos aristas entre 10 y 11 (que se crean) y 8 y 9 (que existen)\")\n",
    "print(\"Nodos: \" + str(list(G.nodes())))\n",
    "print(\"Aristas: \" + str(list(G.edges())))\n",
    "\n",
    "# Eliminamos nodo 10 y arista (8,9)\n",
    "G.remove_node(10)\n",
    "G.remove_edge(8, 9)\n",
    "\n",
    "print(\"\\nEliminamos nodo 10 y arista (8,9)\")\n",
    "print(\"Nodos: \" + str(list(G.nodes())))\n",
    "print(\"Aristas: \" + str(list(G.edges())))\n",
    "\n",
    "print(\"\\nAl eliminar el nodo 10, ha eliminado automáticamente la arista 10,11, pero el nodo 11 sigue ahí.\")\n",
    "print(\"Eliminar la arista 8, 9 no afecta a los nodos, solo a su enlace.\")\n",
    "\n",
    "# Eliminamos nodos 9 y 11 que han quedado sin tocar.\n",
    "G.remove_nodes_from([9,11])\n",
    "\n",
    "print(\"\\nVuelta al estado inicial\")\n",
    "print(\"Nodos: \" + str(list(G.nodes())))\n",
    "print(\"Aristas: \" + str(list(G.edges())))"
   ]
  },
  {
   "cell_type": "markdown",
   "metadata": {},
   "source": [
    "## GENERADORES\n",
    "\n",
    "Entraremos más adelante en este caso, pero por ahora basta decir que NetworkX contiene cantidad de funciones dedicadas a generar de forma automática varios tipos de grafos comunes o habituales de estudio. Por ejemplo, el [grafo de Petersen](https://en.wikipedia.org/wiki/Petersen_graph \"Petersen Graph en Wikipedia.org\"):\n",
    "\n",
    "![alt text](https://upload.wikimedia.org/wikipedia/commons/thumb/9/91/Petersen1_tiny.svg/200px-Petersen1_tiny.svg.png \"Petersen Graph\")"
   ]
  },
  {
   "cell_type": "code",
   "execution_count": 9,
   "metadata": {},
   "outputs": [
    {
     "name": "stdout",
     "output_type": "stream",
     "text": [
      "El grafo de Petersen tiene por nodos: [0, 1, 2, 3, 4, 5, 6, 7, 8, 9]\n",
      "El grafo de Petersen tiene por aristas: [(0, 1), (0, 4), (0, 5), (1, 2), (1, 6), (2, 3), (2, 7), (3, 4), (3, 8), (4, 9), (5, 7), (5, 8), (6, 8), (6, 9), (7, 9)]\n",
      "El grafo completo de K=4 tiene por nodos: [0, 1, 2, 3]\n",
      "El grafo completo de K=4 tiene por aristas: [(0, 1), (0, 2), (0, 3), (1, 2), (1, 3), (2, 3)]\n"
     ]
    }
   ],
   "source": [
    "# Generar el grafo de Petersen\n",
    "\n",
    "petersen = nx.petersen_graph()\n",
    "\n",
    "print(\"El grafo de Petersen tiene por nodos: \" + str(list(petersen.nodes())))\n",
    "print(\"El grafo de Petersen tiene por aristas: \" + str(list(petersen.edges())))\n",
    "\n",
    "# Otros generadores admiten parámetros. Por ejemplo, generar un grafo completo de tamaño K. Probamos para K = 4.\n",
    "\n",
    "K_4 = nx.complete_graph(4)\n",
    "\n",
    "print(\"El grafo completo de K=4 tiene por nodos: \" + str(list(K_4.nodes())))\n",
    "print(\"El grafo completo de K=4 tiene por aristas: \" + str(list(K_4.edges())))"
   ]
  },
  {
   "cell_type": "markdown",
   "metadata": {},
   "source": [
    "No entraremos más en detalle por ahora, pero vamos a dibujarlos con matplotlib para visualizarlos."
   ]
  },
  {
   "cell_type": "code",
   "execution_count": 12,
   "metadata": {},
   "outputs": [
    {
     "data": {
      "image/png": "[encoded data removed]",
      "text/plain": [
       "<Figure size 432x288 with 3 Axes>"
      ]
     },
     "metadata": {},
     "output_type": "display_data"
    }
   ],
   "source": [
    "import matplotlib.pyplot as plt\n",
    "\n",
    "# Procedemos a dibujar, de izquierda a derecha, a G (tal y como quedó en el último paso), Petersen y K_4.\n",
    "\n",
    "plt.subplot(131)\n",
    "nx.draw_random(G, with_labels=True, font_weight='bold')\n",
    "plt.subplot(132)\n",
    "nx.draw(petersen, with_labels=True, font_weight='bold')\n",
    "plt.subplot(133)\n",
    "nx.draw(K_4, with_labels=True, font_weight='bold')\n",
    "plt.show()"
   ]
  },
  {
   "cell_type": "markdown",
   "metadata": {},
   "source": [
    "Parece que el Petersen (en el medio) está un poco atropellado, ¿verdad? En realidad, hay que tener en cuenta algo importante: un grafo no tiene una forma definida, del mismo modo que sus aristas no tienen una dimensión de \"distancia\". Así, aunque parezca muy distinto a la imagen limpia del apartado anterior, es en realidad **exactamente** el mismo grafo. Pero sí, el anterior era más claro y más bonito; más adelante veremos cómo lograr, en la medida de lo posible, que los grafos luzcan bonitos.\n",
    "\n",
    "\n",
    "## PROPIEDADES BÁSICAS\n",
    "\n",
    "Una vez representado el grafo, es el momento de trabajar con él. Empecemos viendo las operaciones básicas que pueden realizarse sobre sus componentes para comprobar sus propiedades.\n",
    "\n",
    "- G.nodes(): Para obtener la lista de nodos.\n",
    "- G.edges(): Para obtener la lista de aristas.\n",
    "- G.adj\\[NODO\\]: Para obtener la lista de nodos adyacentes (*vecinos*) a NODO.\n",
    "- G.degree\\[NODO\\]: Para obtener el grado de NODO (es decir, el número de aristas que le llegan).\n"
   ]
  },
  {
   "cell_type": "code",
   "execution_count": 13,
   "metadata": {},
   "outputs": [
    {
     "name": "stdout",
     "output_type": "stream",
     "text": [
      "Nodos: [1, 2, 3, 4, 5, 6, 7, 8]\n",
      "Aristas: [(1, 2), (1, 3), (1, 6), (7, 8)]\n",
      "Nodos vecinos de 1: [2, 3, 6]\n",
      "Grado del nodo 1: 3\n"
     ]
    }
   ],
   "source": [
    "# Usamos G como referencia de nuevo. Se puede ver el grafo dibujado para comprobar los resultados.\n",
    "\n",
    "print(\"Nodos: \" + str(list(G.nodes())))\n",
    "print(\"Aristas: \" + str(list(G.edges())))\n",
    "print(\"Nodos vecinos de 1: \" + str(list(G.adj[1])))\n",
    "print(\"Grado del nodo 1: \" + str(G.degree[1]))"
   ]
  },
  {
   "cell_type": "markdown",
   "metadata": {},
   "source": [
    "**NOTA:** Es necesario tener en cuenta que los métodos que listan nodos, aristas y adyacentes han cambiado en NetworkX 2 respecto a la versión 1.x anterior. No entraremos en detalles, aunque pueden consultarse en el [anuncio oficial](https://networkx.github.io/documentation/stable/release/release_2.0.html \"NetworkX Release 2.0\"). \n",
    "\n",
    "Básicamente, las funciones del tipo *nodes()* devolvían una lista de objetos y los *nodes_iter()*, un iterador. Ahora, los primeros devuelven una vista (iterable) de solo lectura *NodeView*, lo que ha sustituido la segunda función, que ya no es necesaria. Para sacar la lista de la vista es suficiente usar la función de Python *list()*, como hemnos hecho hasta este punto. Vamos a comprobar la diferencia."
   ]
  },
  {
   "cell_type": "code",
   "execution_count": 14,
   "metadata": {},
   "outputs": [
    {
     "data": {
      "text/plain": [
       "NodeView((1, 2, 3, 4, 5, 6, 7, 8))"
      ]
     },
     "execution_count": 14,
     "metadata": {},
     "output_type": "execute_result"
    }
   ],
   "source": [
    "G.nodes()"
   ]
  },
  {
   "cell_type": "code",
   "execution_count": 15,
   "metadata": {},
   "outputs": [
    {
     "data": {
      "text/plain": [
       "[1, 2, 3, 4, 5, 6, 7, 8]"
      ]
     },
     "execution_count": 15,
     "metadata": {},
     "output_type": "execute_result"
    }
   ],
   "source": [
    "list(G.nodes())"
   ]
  },
  {
   "cell_type": "code",
   "execution_count": 16,
   "metadata": {},
   "outputs": [
    {
     "name": "stdout",
     "output_type": "stream",
     "text": [
      "1\n",
      "2\n",
      "3\n",
      "4\n",
      "5\n",
      "6\n",
      "7\n",
      "8\n"
     ]
    }
   ],
   "source": [
    "# NodeView es iterable\n",
    "for node in G.nodes():\n",
    "    print(node)"
   ]
  },
  {
   "cell_type": "markdown",
   "metadata": {},
   "source": [
    "## ATRIBUTOS\n",
    "\n",
    "Hasta este momento, los nodos y las aristas creadas están vacíos. Representan una relación pero carecen de atributos. A veces interesa que sea así (por ejemplo, la relación \"vive con\" no necesita atributo) pero también hay casos en los que nos interesa mantener más información (por ejemplo, si la persona representada en un nodo es hombre o mujer, o el número de veces que una persona ha visto a otra durante un cierto periodo de tiempo).\n",
    "\n",
    "¿Cómo se añaden los atributos?\n",
    "\n",
    "### Añadir atributos a nodos"
   ]
  },
  {
   "cell_type": "code",
   "execution_count": 17,
   "metadata": {},
   "outputs": [
    {
     "name": "stdout",
     "output_type": "stream",
     "text": [
      "(1, {'sexo': 'mujer'})\n",
      "(2, {})\n",
      "(3, {'sexo': 'mujer'})\n",
      "(4, {})\n",
      "(5, {})\n",
      "(6, {'sexo': 'hombre'})\n",
      "(7, {})\n",
      "(8, {'edad': 25, 'sexo': 'hombre'})\n"
     ]
    }
   ],
   "source": [
    "#Directamente en la creación\n",
    "\n",
    "G.add_node(1, sexo='mujer')\n",
    "G.add_nodes_from([3,6], sexo='hombre')\n",
    "\n",
    "#Creando el atributo y añadiéndolo (o modificándolo)\n",
    "G.nodes[3]['sexo'] = 'mujer'\n",
    "G.nodes[8]['edad'] = 25\n",
    "G.nodes[8]['sexo'] = 'hombre'\n",
    "\n",
    "# Así lo vemos ordenado, cada nodo con sus atributos.\n",
    "for node in G.nodes.data():\n",
    "    print(node)"
   ]
  },
  {
   "cell_type": "markdown",
   "metadata": {},
   "source": [
    "### Añadir atributos a aristas\n",
    "\n",
    "Un caso muy típico es el peso, *weight*. Solo hay que tener en cuenta que este atributo en concreto es un poco especial y debería ser numérico, porque muchos algoritmos lo usan para sus cálculos (recorridos mínimos, por ejemplo). Para el resto, la misma libertad y funcionalidad que con los nodos."
   ]
  },
  {
   "cell_type": "code",
   "execution_count": 18,
   "metadata": {},
   "outputs": [
    {
     "name": "stdout",
     "output_type": "stream",
     "text": [
      "(1, 2, {'weight': 4.7, 'color': 'blue'})\n",
      "(1, 3, {})\n",
      "(1, 6, {'weight': 3.0})\n",
      "(2, 3, {'weight': 8})\n",
      "(3, 4, {'color': 'blue', 'weight': 4.2})\n",
      "(4, 5, {'color': 'blue'})\n",
      "(7, 8, {})\n"
     ]
    }
   ],
   "source": [
    "# Directamente en la creación\n",
    "G.add_edge(1, 2, weight=4.7 )\n",
    "G.add_edges_from([(3, 4), (4, 5)], color='blue')\n",
    "G.add_edges_from([(1, 2, {'color': 'blue'}), (2, 3, {'weight': 8})])\n",
    "\n",
    "# Creando el atributo y añadiéndolo (o modificándolo)\n",
    "G[1][6]['weight'] = 3.0\n",
    "G.edges[3, 4]['weight'] = 4.2\n",
    "\n",
    "for edge in G.edges.data():\n",
    "    print(edge)"
   ]
  },
  {
   "cell_type": "markdown",
   "metadata": {},
   "source": [
    "Un caso que puede llamar la atención en el ejemplo anterior es G\\[1\\]\\[6\\]. Solo hay que tener en cuenta que:\n",
    "- G\\[1\\] es equivalente a G.adj\\[1\\], visto anteriormente.\n",
    "- G\\[1\\], por lo tanto, devuelve los adyacentes a 1, que son 2, 3 y 6. \n",
    "- G\\[1\\]\\[6\\] se refiere al nodo 6 adyacente a 1, siendo otra forma de referirse a la arista (1,6).\n",
    "- Tanto G\\[1\\]\\[6\\] como G.edges\\[1, 6\\] devuelven directamente el diccionario de atributos de la arista.\n",
    "\n",
    "Es quizás poco intuitivo, pero ejecutar G\\[1\\]\\[5\\], por ejemplo, resultará en error, porque no existe vínculo entre 1 y 5."
   ]
  },
  {
   "cell_type": "code",
   "execution_count": 19,
   "metadata": {},
   "outputs": [
    {
     "name": "stdout",
     "output_type": "stream",
     "text": [
      "True\n",
      "True\n"
     ]
    }
   ],
   "source": [
    "print(G[1] == G.adj[1])\n",
    "print(G[1][6] == G.edges[1, 6])"
   ]
  },
  {
   "cell_type": "markdown",
   "metadata": {},
   "source": [
    "## GRAFOS DIRIGIDOS\n",
    "\n",
    "También es importante mencionar los grafos dirigidos. Se ha visto que los grafos sin dirección responden a relaciones que son obligatoriamente recíprocas (por ejemplo, si Ana vive con José, José vive con Ana). Pero muchas relaciones no lo son, sino que tienen dirección. Por ejemplo, la amistad. Que Ana considere a José su amigo no significa que José considere a Ana como su amiga *per se*. A su vez, hay algoritmos que solo funcionan en grafos dirigidos (pero también hay otros que no están bien definidos sobre grafos dirigidos, así que existe la posibilidad de transformarlos, aunque perdiendo su significado original).\n",
    "\n",
    "Sus funcionalidades básicas son muy parecidas a las de Graph():"
   ]
  },
  {
   "cell_type": "code",
   "execution_count": 20,
   "metadata": {},
   "outputs": [
    {
     "name": "stdout",
     "output_type": "stream",
     "text": [
      "1.25\n",
      "[2]\n",
      "[2]\n"
     ]
    }
   ],
   "source": [
    "# Crear un grafo dirigido\n",
    "\n",
    "DG = nx.DiGraph()\n",
    "\n",
    "# Añadir aristas/nodos con pesos\n",
    "\n",
    "DG.add_weighted_edges_from([(1, 2, 0.5), (3, 1, 0.75)])\n",
    "\n",
    "# Mostrar el GRADO (pero aquí se tiene en cuenta el peso de cada arista que pasa por el nodo)\n",
    "print(DG.degree(1, weight='weight'))\n",
    "\n",
    "# Las dos formas de obtener los adyacentes \n",
    "print(list(DG.adj[1]))\n",
    "print(list(DG.neighbors(1)))\n"
   ]
  },
  {
   "cell_type": "markdown",
   "metadata": {},
   "source": [
    "Pero, un momento, si existen las aristas (1,2) y (3,1), ¿por qué no aparece 3 como vecino de 1 en DG.adj\\[1\\]? \n",
    "\n",
    "La respuesta se encuentra en las funciones propias de DiGraph, como *in_degree()* y *out_degree()* (aristas entrantes y salientes) o *predecessors()* y *successors()* para obtener sus adyacentes direccionales. DG.adj es equivalente, para DiGraph, a los sucesores. \n",
    "\n",
    "Así, solo devolverá los nodos a los que se llegue desde 1, no los que lleguen al mismo.\n",
    "\n",
    "Veamos las funciones propias en acción"
   ]
  },
  {
   "cell_type": "code",
   "execution_count": 21,
   "metadata": {},
   "outputs": [
    {
     "name": "stdout",
     "output_type": "stream",
     "text": [
      "1\n",
      "0.75\n",
      "0.5\n",
      "[3]\n",
      "[2]\n"
     ]
    }
   ],
   "source": [
    "print(DG.in_degree(1)) # Grado ENTRANTE\n",
    "print(DG.in_degree(1, weight='weight')) # Suma de pesos ENTRANTES\n",
    "print(DG.out_degree(1, weight='weight')) # Suma de pesos SALIENTES\n",
    "print(list(DG.predecessors(1))) # Lista de PREDECESORES\n",
    "print(list(DG.successors(1))) # Lista de SUCESORES"
   ]
  },
  {
   "cell_type": "markdown",
   "metadata": {},
   "source": [
    "## MULTIGRAFOS\n",
    "\n",
    "Un caso particular (y habitualmente menos útil, salvo para aplicaciones específicas) es el multigrafo, al que NetworkX también da cierto soporte. Pocos algoritmos están definidos para ellos, pero básicamente son una extensión del grafo o del grafo dirigido en la que es posible tener definidas dos aristas entre el mismo par de nodos."
   ]
  },
  {
   "cell_type": "code",
   "execution_count": 22,
   "metadata": {},
   "outputs": [
    {
     "data": {
      "text/plain": [
       "{1: 1.25, 2: 1.75, 3: 0.5}"
      ]
     },
     "execution_count": 22,
     "metadata": {},
     "output_type": "execute_result"
    }
   ],
   "source": [
    "# Creación\n",
    "\n",
    "MG = nx.MultiGraph() # O MultiDiGraph() para direccionales.\n",
    "\n",
    "# Construcción\n",
    "\n",
    "MG.add_weighted_edges_from([(1, 2, 0.5), (1, 2, 0.75), (2, 3, 0.5)])\n",
    "\n",
    "# Grados por nodo\n",
    "\n",
    "dict(MG.degree(weight='weight'))"
   ]
  },
  {
   "cell_type": "markdown",
   "metadata": {},
   "source": [
    "Nótese que el grado de 1 es la suma de dos aristas que van al mismo nodo, 2, que el grado de 2 es la suma de las dos aristas que le llegan de 1 y de la que va hacia 3, mientras que el nodo 3 solo recibe una arista de 2."
   ]
  },
  {
   "cell_type": "code",
   "execution_count": null,
   "metadata": {},
   "outputs": [],
   "source": []
  }
 ],
 "metadata": {
  "kernelspec": {
   "display_name": "Python 3 (ipykernel)",
   "language": "python",
   "name": "python3"
  },
  "language_info": {
   "codemirror_mode": {
    "name": "ipython",
    "version": 3
   },
   "file_extension": ".py",
   "mimetype": "text/x-python",
   "name": "python",
   "nbconvert_exporter": "python",
   "pygments_lexer": "ipython3",
   "version": "3.8.8"
  },
  "varInspector": {
   "cols": {
    "lenName": 16,
    "lenType": 16,
    "lenVar": 40
   },
   "kernels_config": {
    "python": {
     "delete_cmd_postfix": "",
     "delete_cmd_prefix": "del ",
     "library": "var_list.py",
     "varRefreshCmd": "print(var_dic_list())"
    },
    "r": {
     "delete_cmd_postfix": ") ",
     "delete_cmd_prefix": "rm(",
     "library": "var_list.r",
     "varRefreshCmd": "cat(var_dic_list()) "
    }
   },
   "types_to_exclude": [
    "module",
    "function",
    "builtin_function_or_method",
    "instance",
    "_Feature"
   ],
   "window_display": false
  }
 },
 "nbformat": 4,
 "nbformat_minor": 4
}
